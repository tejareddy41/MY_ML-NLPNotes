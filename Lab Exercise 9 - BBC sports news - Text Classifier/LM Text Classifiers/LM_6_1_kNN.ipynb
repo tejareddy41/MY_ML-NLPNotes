{
  "nbformat": 4,
  "nbformat_minor": 0,
  "metadata": {
    "colab": {
      "name": "LM 6.1 kNN.ipynb",
      "provenance": []
    },
    "kernelspec": {
      "name": "python3",
      "display_name": "Python 3"
    },
    "language_info": {
      "name": "python"
    },
    "accelerator": "TPU"
  },
  "cells": [
    {
      "cell_type": "code",
      "metadata": {
        "colab": {
          "base_uri": "https://localhost:8080/"
        },
        "id": "zd1VgwMhI-Jq",
        "outputId": "2821afc2-406d-40a8-c126-c71fed46d05d"
      },
      "source": [
        "from google.colab import drive\n",
        "drive.mount('/content/gdrive/')"
      ],
      "execution_count": 17,
      "outputs": [
        {
          "output_type": "stream",
          "name": "stdout",
          "text": [
            "Drive already mounted at /content/gdrive/; to attempt to forcibly remount, call drive.mount(\"/content/gdrive/\", force_remount=True).\n"
          ]
        }
      ]
    },
    {
      "cell_type": "code",
      "metadata": {
        "colab": {
          "base_uri": "https://localhost:8080/"
        },
        "id": "SARj_BW0i2Jx",
        "outputId": "fe9b929a-3189-4b79-caf0-d17ffbd7ed18"
      },
      "source": [
        "%cd /content/gdrive/MyDrive/NLP2021/TextClassification"
      ],
      "execution_count": 18,
      "outputs": [
        {
          "output_type": "stream",
          "name": "stdout",
          "text": [
            "/content/gdrive/MyDrive/NLP2021/TextClassification\n"
          ]
        }
      ]
    },
    {
      "cell_type": "code",
      "metadata": {
        "colab": {
          "base_uri": "https://localhost:8080/"
        },
        "id": "WlHCrhOU6R0e",
        "outputId": "35bb6fa2-451b-4e08-9c60-472ce081d69b"
      },
      "source": [
        "!ls"
      ],
      "execution_count": 19,
      "outputs": [
        {
          "output_type": "stream",
          "name": "stdout",
          "text": [
            " 20_newsgroup.csv\t       'Document Clustering.ipynb'\n",
            " 20newsgroup.csv\t        FreqDist.ipynb\n",
            " 20_newsgroup.gsheet\t        hierarchical.ipynb\n",
            "'bbc_preprocessed (1).gsheet'   k-means.ipynb\n",
            "'bbc_preprocessed (2).gsheet'   knn.pkl\n",
            " bbc_preprocessed.csv\t       'Lab Exercise 9 - Text Classifier'\n",
            " bbc_preprocessed.gsheet        lda_bbcnews.ipynb\n",
            " bbc_preprocessed_sport.csv    'LM 6.1 kNN.ipynb'\n",
            " bbcsport\t\t       'LM 6.2 SVM.ipynb'\n",
            " bbcsport-fulltext.zip\t       'LM 6.3 NaiveBayes.ipynb'\n",
            " bbc_sports.ipynb\t        lsi_bbcnews.ipynb\n",
            " bbc-text.csv\t\t        preprocess.ipynb\n",
            " bbc-text.gsheet\t        Untitled0.ipynb\n",
            " Consumer_Citibank.ipynb        Untitled1.ipynb\n",
            " consumer.csv\t\t        v.csv\n",
            " Co-occurrence_SVD.ipynb        vectorized.csv\n",
            " dataset.csv\t\t        v.gsheet\n",
            " dataset.gsheet\t\t        wordcloud.ipynb\n"
          ]
        }
      ]
    },
    {
      "cell_type": "code",
      "metadata": {
        "id": "MA1M17wDqLMG"
      },
      "source": [
        "#!wget https://raw.githubusercontent.com/suraj-deshmukh/BBC-Dataset-News-Classification/master/dataset/dataset.csv"
      ],
      "execution_count": 20,
      "outputs": []
    },
    {
      "cell_type": "markdown",
      "metadata": {
        "id": "pXynC8IlifKw"
      },
      "source": [
        ""
      ]
    },
    {
      "cell_type": "code",
      "metadata": {
        "id": "_i5Zob1EjMMI"
      },
      "source": [
        "#!wget https://storage.googleapis.com/dataset-uploader/bbc/bbc-text.csv"
      ],
      "execution_count": 21,
      "outputs": []
    },
    {
      "cell_type": "code",
      "metadata": {
        "colab": {
          "base_uri": "https://localhost:8080/",
          "height": 203
        },
        "id": "Hdzwhksri_Tc",
        "outputId": "d995a381-296e-4619-c9d0-266d1d1fa8f7"
      },
      "source": [
        "import pandas as pd\n",
        "df = pd.read_csv('bbc-text.csv')\n",
        "df.head()"
      ],
      "execution_count": 22,
      "outputs": [
        {
          "output_type": "execute_result",
          "data": {
            "text/html": [
              "<div>\n",
              "<style scoped>\n",
              "    .dataframe tbody tr th:only-of-type {\n",
              "        vertical-align: middle;\n",
              "    }\n",
              "\n",
              "    .dataframe tbody tr th {\n",
              "        vertical-align: top;\n",
              "    }\n",
              "\n",
              "    .dataframe thead th {\n",
              "        text-align: right;\n",
              "    }\n",
              "</style>\n",
              "<table border=\"1\" class=\"dataframe\">\n",
              "  <thead>\n",
              "    <tr style=\"text-align: right;\">\n",
              "      <th></th>\n",
              "      <th>category</th>\n",
              "      <th>text</th>\n",
              "    </tr>\n",
              "  </thead>\n",
              "  <tbody>\n",
              "    <tr>\n",
              "      <th>0</th>\n",
              "      <td>tech</td>\n",
              "      <td>tv future in the hands of viewers with home th...</td>\n",
              "    </tr>\n",
              "    <tr>\n",
              "      <th>1</th>\n",
              "      <td>business</td>\n",
              "      <td>worldcom boss  left books alone  former worldc...</td>\n",
              "    </tr>\n",
              "    <tr>\n",
              "      <th>2</th>\n",
              "      <td>sport</td>\n",
              "      <td>tigers wary of farrell  gamble  leicester say ...</td>\n",
              "    </tr>\n",
              "    <tr>\n",
              "      <th>3</th>\n",
              "      <td>sport</td>\n",
              "      <td>yeading face newcastle in fa cup premiership s...</td>\n",
              "    </tr>\n",
              "    <tr>\n",
              "      <th>4</th>\n",
              "      <td>entertainment</td>\n",
              "      <td>ocean s twelve raids box office ocean s twelve...</td>\n",
              "    </tr>\n",
              "  </tbody>\n",
              "</table>\n",
              "</div>"
            ],
            "text/plain": [
              "        category                                               text\n",
              "0           tech  tv future in the hands of viewers with home th...\n",
              "1       business  worldcom boss  left books alone  former worldc...\n",
              "2          sport  tigers wary of farrell  gamble  leicester say ...\n",
              "3          sport  yeading face newcastle in fa cup premiership s...\n",
              "4  entertainment  ocean s twelve raids box office ocean s twelve..."
            ]
          },
          "metadata": {},
          "execution_count": 22
        }
      ]
    },
    {
      "cell_type": "code",
      "metadata": {
        "colab": {
          "base_uri": "https://localhost:8080/",
          "height": 973
        },
        "id": "JlkPL7mex7Eb",
        "outputId": "fc61d6c7-c969-4e70-a679-4ba14f429d81"
      },
      "source": [
        "df.head(30)"
      ],
      "execution_count": 23,
      "outputs": [
        {
          "output_type": "execute_result",
          "data": {
            "text/html": [
              "<div>\n",
              "<style scoped>\n",
              "    .dataframe tbody tr th:only-of-type {\n",
              "        vertical-align: middle;\n",
              "    }\n",
              "\n",
              "    .dataframe tbody tr th {\n",
              "        vertical-align: top;\n",
              "    }\n",
              "\n",
              "    .dataframe thead th {\n",
              "        text-align: right;\n",
              "    }\n",
              "</style>\n",
              "<table border=\"1\" class=\"dataframe\">\n",
              "  <thead>\n",
              "    <tr style=\"text-align: right;\">\n",
              "      <th></th>\n",
              "      <th>category</th>\n",
              "      <th>text</th>\n",
              "    </tr>\n",
              "  </thead>\n",
              "  <tbody>\n",
              "    <tr>\n",
              "      <th>0</th>\n",
              "      <td>tech</td>\n",
              "      <td>tv future in the hands of viewers with home th...</td>\n",
              "    </tr>\n",
              "    <tr>\n",
              "      <th>1</th>\n",
              "      <td>business</td>\n",
              "      <td>worldcom boss  left books alone  former worldc...</td>\n",
              "    </tr>\n",
              "    <tr>\n",
              "      <th>2</th>\n",
              "      <td>sport</td>\n",
              "      <td>tigers wary of farrell  gamble  leicester say ...</td>\n",
              "    </tr>\n",
              "    <tr>\n",
              "      <th>3</th>\n",
              "      <td>sport</td>\n",
              "      <td>yeading face newcastle in fa cup premiership s...</td>\n",
              "    </tr>\n",
              "    <tr>\n",
              "      <th>4</th>\n",
              "      <td>entertainment</td>\n",
              "      <td>ocean s twelve raids box office ocean s twelve...</td>\n",
              "    </tr>\n",
              "    <tr>\n",
              "      <th>5</th>\n",
              "      <td>politics</td>\n",
              "      <td>howard hits back at mongrel jibe michael howar...</td>\n",
              "    </tr>\n",
              "    <tr>\n",
              "      <th>6</th>\n",
              "      <td>politics</td>\n",
              "      <td>blair prepares to name poll date tony blair is...</td>\n",
              "    </tr>\n",
              "    <tr>\n",
              "      <th>7</th>\n",
              "      <td>sport</td>\n",
              "      <td>henman hopes ended in dubai third seed tim hen...</td>\n",
              "    </tr>\n",
              "    <tr>\n",
              "      <th>8</th>\n",
              "      <td>sport</td>\n",
              "      <td>wilkinson fit to face edinburgh england captai...</td>\n",
              "    </tr>\n",
              "    <tr>\n",
              "      <th>9</th>\n",
              "      <td>entertainment</td>\n",
              "      <td>last star wars  not for children  the sixth an...</td>\n",
              "    </tr>\n",
              "    <tr>\n",
              "      <th>10</th>\n",
              "      <td>entertainment</td>\n",
              "      <td>berlin cheers for anti-nazi film a german movi...</td>\n",
              "    </tr>\n",
              "    <tr>\n",
              "      <th>11</th>\n",
              "      <td>business</td>\n",
              "      <td>virgin blue shares plummet 20% shares in austr...</td>\n",
              "    </tr>\n",
              "    <tr>\n",
              "      <th>12</th>\n",
              "      <td>business</td>\n",
              "      <td>crude oil prices back above $50 cold weather a...</td>\n",
              "    </tr>\n",
              "    <tr>\n",
              "      <th>13</th>\n",
              "      <td>politics</td>\n",
              "      <td>hague  given up  his pm ambition former conser...</td>\n",
              "    </tr>\n",
              "    <tr>\n",
              "      <th>14</th>\n",
              "      <td>sport</td>\n",
              "      <td>moya emotional after davis cup win carlos moya...</td>\n",
              "    </tr>\n",
              "    <tr>\n",
              "      <th>15</th>\n",
              "      <td>business</td>\n",
              "      <td>s korean credit card firm rescued south korea ...</td>\n",
              "    </tr>\n",
              "    <tr>\n",
              "      <th>16</th>\n",
              "      <td>politics</td>\n",
              "      <td>howard backs stem cell research michael howard...</td>\n",
              "    </tr>\n",
              "    <tr>\n",
              "      <th>17</th>\n",
              "      <td>sport</td>\n",
              "      <td>connors boost for british tennis former world ...</td>\n",
              "    </tr>\n",
              "    <tr>\n",
              "      <th>18</th>\n",
              "      <td>business</td>\n",
              "      <td>japanese banking battle at an end japan s sumi...</td>\n",
              "    </tr>\n",
              "    <tr>\n",
              "      <th>19</th>\n",
              "      <td>tech</td>\n",
              "      <td>games maker fights for survival one of britain...</td>\n",
              "    </tr>\n",
              "    <tr>\n",
              "      <th>20</th>\n",
              "      <td>tech</td>\n",
              "      <td>security warning over  fbi virus  the us feder...</td>\n",
              "    </tr>\n",
              "    <tr>\n",
              "      <th>21</th>\n",
              "      <td>tech</td>\n",
              "      <td>halo 2 heralds traffic explosion the growing p...</td>\n",
              "    </tr>\n",
              "    <tr>\n",
              "      <th>22</th>\n",
              "      <td>sport</td>\n",
              "      <td>bates seals takeover ken bates has completed h...</td>\n",
              "    </tr>\n",
              "    <tr>\n",
              "      <th>23</th>\n",
              "      <td>sport</td>\n",
              "      <td>cole faces lengthy injury lay-off aston villa ...</td>\n",
              "    </tr>\n",
              "    <tr>\n",
              "      <th>24</th>\n",
              "      <td>tech</td>\n",
              "      <td>mobile audio enters new dimension as mobile ph...</td>\n",
              "    </tr>\n",
              "    <tr>\n",
              "      <th>25</th>\n",
              "      <td>sport</td>\n",
              "      <td>moya fights back for indian title carlos moya ...</td>\n",
              "    </tr>\n",
              "    <tr>\n",
              "      <th>26</th>\n",
              "      <td>entertainment</td>\n",
              "      <td>career honour for actor dicaprio actor leonard...</td>\n",
              "    </tr>\n",
              "    <tr>\n",
              "      <th>27</th>\n",
              "      <td>tech</td>\n",
              "      <td>mobile gig aims to rock 3g forget about going ...</td>\n",
              "    </tr>\n",
              "    <tr>\n",
              "      <th>28</th>\n",
              "      <td>politics</td>\n",
              "      <td>terror suspects face house arrest uk citizens ...</td>\n",
              "    </tr>\n",
              "    <tr>\n",
              "      <th>29</th>\n",
              "      <td>entertainment</td>\n",
              "      <td>halloween writer debra hill dies screenwriter ...</td>\n",
              "    </tr>\n",
              "  </tbody>\n",
              "</table>\n",
              "</div>"
            ],
            "text/plain": [
              "         category                                               text\n",
              "0            tech  tv future in the hands of viewers with home th...\n",
              "1        business  worldcom boss  left books alone  former worldc...\n",
              "2           sport  tigers wary of farrell  gamble  leicester say ...\n",
              "3           sport  yeading face newcastle in fa cup premiership s...\n",
              "4   entertainment  ocean s twelve raids box office ocean s twelve...\n",
              "5        politics  howard hits back at mongrel jibe michael howar...\n",
              "6        politics  blair prepares to name poll date tony blair is...\n",
              "7           sport  henman hopes ended in dubai third seed tim hen...\n",
              "8           sport  wilkinson fit to face edinburgh england captai...\n",
              "9   entertainment  last star wars  not for children  the sixth an...\n",
              "10  entertainment  berlin cheers for anti-nazi film a german movi...\n",
              "11       business  virgin blue shares plummet 20% shares in austr...\n",
              "12       business  crude oil prices back above $50 cold weather a...\n",
              "13       politics  hague  given up  his pm ambition former conser...\n",
              "14          sport  moya emotional after davis cup win carlos moya...\n",
              "15       business  s korean credit card firm rescued south korea ...\n",
              "16       politics  howard backs stem cell research michael howard...\n",
              "17          sport  connors boost for british tennis former world ...\n",
              "18       business  japanese banking battle at an end japan s sumi...\n",
              "19           tech  games maker fights for survival one of britain...\n",
              "20           tech  security warning over  fbi virus  the us feder...\n",
              "21           tech  halo 2 heralds traffic explosion the growing p...\n",
              "22          sport  bates seals takeover ken bates has completed h...\n",
              "23          sport  cole faces lengthy injury lay-off aston villa ...\n",
              "24           tech  mobile audio enters new dimension as mobile ph...\n",
              "25          sport  moya fights back for indian title carlos moya ...\n",
              "26  entertainment  career honour for actor dicaprio actor leonard...\n",
              "27           tech  mobile gig aims to rock 3g forget about going ...\n",
              "28       politics  terror suspects face house arrest uk citizens ...\n",
              "29  entertainment  halloween writer debra hill dies screenwriter ..."
            ]
          },
          "metadata": {},
          "execution_count": 23
        }
      ]
    },
    {
      "cell_type": "code",
      "metadata": {
        "colab": {
          "base_uri": "https://localhost:8080/"
        },
        "id": "ocC_hrV3zRPc",
        "outputId": "8f513001-92ec-4473-c1ef-ad98420b09d7"
      },
      "source": [
        "df.shape"
      ],
      "execution_count": 24,
      "outputs": [
        {
          "output_type": "execute_result",
          "data": {
            "text/plain": [
              "(2225, 2)"
            ]
          },
          "metadata": {},
          "execution_count": 24
        }
      ]
    },
    {
      "cell_type": "markdown",
      "metadata": {
        "id": "zwvdlwSggs9N"
      },
      "source": [
        "run a notebook - use the functions"
      ]
    },
    {
      "cell_type": "code",
      "metadata": {
        "colab": {
          "base_uri": "https://localhost:8080/"
        },
        "id": "sSOsEl_z-zaw",
        "outputId": "a5dd2404-6654-4e74-87d0-ef347a3d61a3"
      },
      "source": [
        "%run preprocess.ipynb"
      ],
      "execution_count": 25,
      "outputs": [
        {
          "output_type": "stream",
          "name": "stdout",
          "text": [
            "[nltk_data] Downloading package punkt to /root/nltk_data...\n",
            "[nltk_data]   Unzipping tokenizers/punkt.zip.\n",
            "[nltk_data] Downloading package stopwords to /root/nltk_data...\n",
            "[nltk_data]   Unzipping corpora/stopwords.zip.\n",
            "[nltk_data] Downloading package wordnet to /root/nltk_data...\n",
            "[nltk_data]   Unzipping corpora/wordnet.zip.\n"
          ]
        }
      ]
    },
    {
      "cell_type": "markdown",
      "metadata": {
        "id": "EJ_0XLItYsc9"
      },
      "source": [
        "https://pandas.pydata.org/docs/reference/api/pandas.factorize.html"
      ]
    },
    {
      "cell_type": "code",
      "metadata": {
        "id": "M4FfjyutE8N6"
      },
      "source": [
        "df['category_id'] = df['category'].factorize()[0]"
      ],
      "execution_count": 26,
      "outputs": []
    },
    {
      "cell_type": "markdown",
      "metadata": {
        "id": "U889JjWnY7JL"
      },
      "source": [
        "https://pandas.pydata.org/docs/reference/api/pandas.DataFrame.apply.html"
      ]
    },
    {
      "cell_type": "code",
      "metadata": {
        "colab": {
          "base_uri": "https://localhost:8080/",
          "height": 357
        },
        "id": "9wGHn0Ax9REJ",
        "outputId": "e923ed48-1a51-4a4c-f741-890799edd4cb"
      },
      "source": [
        "df['clean_text'] = df['text'].apply(preprocess)\n",
        "df.head(10)"
      ],
      "execution_count": 27,
      "outputs": [
        {
          "output_type": "execute_result",
          "data": {
            "text/html": [
              "<div>\n",
              "<style scoped>\n",
              "    .dataframe tbody tr th:only-of-type {\n",
              "        vertical-align: middle;\n",
              "    }\n",
              "\n",
              "    .dataframe tbody tr th {\n",
              "        vertical-align: top;\n",
              "    }\n",
              "\n",
              "    .dataframe thead th {\n",
              "        text-align: right;\n",
              "    }\n",
              "</style>\n",
              "<table border=\"1\" class=\"dataframe\">\n",
              "  <thead>\n",
              "    <tr style=\"text-align: right;\">\n",
              "      <th></th>\n",
              "      <th>category</th>\n",
              "      <th>text</th>\n",
              "      <th>category_id</th>\n",
              "      <th>clean_text</th>\n",
              "    </tr>\n",
              "  </thead>\n",
              "  <tbody>\n",
              "    <tr>\n",
              "      <th>0</th>\n",
              "      <td>tech</td>\n",
              "      <td>tv future in the hands of viewers with home th...</td>\n",
              "      <td>0</td>\n",
              "      <td>tv futur hand viewer home theatr system plasma...</td>\n",
              "    </tr>\n",
              "    <tr>\n",
              "      <th>1</th>\n",
              "      <td>business</td>\n",
              "      <td>worldcom boss  left books alone  former worldc...</td>\n",
              "      <td>1</td>\n",
              "      <td>worldcom boss left book alon former worldcom b...</td>\n",
              "    </tr>\n",
              "    <tr>\n",
              "      <th>2</th>\n",
              "      <td>sport</td>\n",
              "      <td>tigers wary of farrell  gamble  leicester say ...</td>\n",
              "      <td>2</td>\n",
              "      <td>tiger wari farrel gambl leicest say rush make ...</td>\n",
              "    </tr>\n",
              "    <tr>\n",
              "      <th>3</th>\n",
              "      <td>sport</td>\n",
              "      <td>yeading face newcastle in fa cup premiership s...</td>\n",
              "      <td>2</td>\n",
              "      <td>yead face newcastl fa cup premiership side new...</td>\n",
              "    </tr>\n",
              "    <tr>\n",
              "      <th>4</th>\n",
              "      <td>entertainment</td>\n",
              "      <td>ocean s twelve raids box office ocean s twelve...</td>\n",
              "      <td>3</td>\n",
              "      <td>ocean twelv raid box offic ocean twelv crime c...</td>\n",
              "    </tr>\n",
              "    <tr>\n",
              "      <th>5</th>\n",
              "      <td>politics</td>\n",
              "      <td>howard hits back at mongrel jibe michael howar...</td>\n",
              "      <td>4</td>\n",
              "      <td>howard hit back mongrel jibe michael howard sa...</td>\n",
              "    </tr>\n",
              "    <tr>\n",
              "      <th>6</th>\n",
              "      <td>politics</td>\n",
              "      <td>blair prepares to name poll date tony blair is...</td>\n",
              "      <td>4</td>\n",
              "      <td>blair prepar name poll date toni blair like na...</td>\n",
              "    </tr>\n",
              "    <tr>\n",
              "      <th>7</th>\n",
              "      <td>sport</td>\n",
              "      <td>henman hopes ended in dubai third seed tim hen...</td>\n",
              "      <td>2</td>\n",
              "      <td>henman hope end dubai third seed tim henman sl...</td>\n",
              "    </tr>\n",
              "    <tr>\n",
              "      <th>8</th>\n",
              "      <td>sport</td>\n",
              "      <td>wilkinson fit to face edinburgh england captai...</td>\n",
              "      <td>2</td>\n",
              "      <td>wilkinson fit face edinburgh england captain j...</td>\n",
              "    </tr>\n",
              "    <tr>\n",
              "      <th>9</th>\n",
              "      <td>entertainment</td>\n",
              "      <td>last star wars  not for children  the sixth an...</td>\n",
              "      <td>3</td>\n",
              "      <td>last star war children sixth final star war mo...</td>\n",
              "    </tr>\n",
              "  </tbody>\n",
              "</table>\n",
              "</div>"
            ],
            "text/plain": [
              "        category  ...                                         clean_text\n",
              "0           tech  ...  tv futur hand viewer home theatr system plasma...\n",
              "1       business  ...  worldcom boss left book alon former worldcom b...\n",
              "2          sport  ...  tiger wari farrel gambl leicest say rush make ...\n",
              "3          sport  ...  yead face newcastl fa cup premiership side new...\n",
              "4  entertainment  ...  ocean twelv raid box offic ocean twelv crime c...\n",
              "5       politics  ...  howard hit back mongrel jibe michael howard sa...\n",
              "6       politics  ...  blair prepar name poll date toni blair like na...\n",
              "7          sport  ...  henman hope end dubai third seed tim henman sl...\n",
              "8          sport  ...  wilkinson fit face edinburgh england captain j...\n",
              "9  entertainment  ...  last star war children sixth final star war mo...\n",
              "\n",
              "[10 rows x 4 columns]"
            ]
          },
          "metadata": {},
          "execution_count": 27
        }
      ]
    },
    {
      "cell_type": "code",
      "metadata": {
        "id": "Kw0DOt4byP_W"
      },
      "source": [
        "#save the pre-processed dataframe\n",
        "df.to_csv('bbc_preprocessed.csv')"
      ],
      "execution_count": 28,
      "outputs": []
    },
    {
      "cell_type": "markdown",
      "metadata": {
        "id": "ugSQekwjh2HU"
      },
      "source": [
        "find the mapping between class labels and factorized number"
      ]
    },
    {
      "cell_type": "code",
      "metadata": {
        "colab": {
          "base_uri": "https://localhost:8080/"
        },
        "id": "Au9UgHKV5SnS",
        "outputId": "83d35b84-fc04-4383-cb04-c609d8a816df"
      },
      "source": [
        "print(df.category_id.unique(),df.category.unique())"
      ],
      "execution_count": 29,
      "outputs": [
        {
          "output_type": "stream",
          "name": "stdout",
          "text": [
            "[0 1 2 3 4] ['tech' 'business' 'sport' 'entertainment' 'politics']\n"
          ]
        }
      ]
    },
    {
      "cell_type": "code",
      "metadata": {
        "colab": {
          "base_uri": "https://localhost:8080/",
          "height": 667
        },
        "id": "VogR7YcHkJ-R",
        "outputId": "aaca994c-774a-44c0-fb3a-541b3b6b045c"
      },
      "source": [
        "import matplotlib.pyplot as plt\n",
        "fig = plt.figure(figsize=(10,10))\n",
        "df.groupby('category').text.count().plot.bar(ylim=0)\n",
        "plt.show()"
      ],
      "execution_count": 30,
      "outputs": [
        {
          "output_type": "display_data",
          "data": {
            "image/png": "[encoded data removed]",
            "text/plain": [
              "<Figure size 720x720 with 1 Axes>"
            ]
          },
          "metadata": {
            "needs_background": "light"
          }
        }
      ]
    },
    {
      "cell_type": "markdown",
      "metadata": {
        "id": "9sJuM5RJZ8ac"
      },
      "source": [
        "#Vectorize Text Data"
      ]
    },
    {
      "cell_type": "code",
      "metadata": {
        "colab": {
          "base_uri": "https://localhost:8080/"
        },
        "id": "eotqiG9q7SIq",
        "outputId": "4e68258b-e2d1-42b0-90bf-72bd3aafee19"
      },
      "source": [
        "from sklearn.feature_extraction.text import TfidfVectorizer\n",
        "\n",
        "texts = df['clean_text'] # getting the text column\n",
        "\n",
        "tfidf_vectorizer = TfidfVectorizer() #tfidf\n",
        "\n",
        "X = tfidf_vectorizer.fit_transform(texts) #features -> text data\n",
        "\n",
        "y = df['category_id'].values #target --> labels/classes\n",
        "\n",
        "print(X.shape)\n",
        "print(y.shape)\n",
        "\n",
        "#2225,2 --> 2225, 18536  \n",
        "#18536 unique words - tfidf"
      ],
      "execution_count": 31,
      "outputs": [
        {
          "output_type": "stream",
          "name": "stdout",
          "text": [
            "(2225, 18536)\n",
            "(2225,)\n"
          ]
        }
      ]
    },
    {
      "cell_type": "code",
      "metadata": {
        "id": "kpYpWw3GO4y5"
      },
      "source": [
        "#print(X.toarray())\n",
        "dataset = pd.DataFrame(X.toarray())\n",
        "\n",
        "temp = dataset.sample(20)\n",
        "temp.to_csv('vectorized.csv')"
      ],
      "execution_count": 32,
      "outputs": []
    },
    {
      "cell_type": "markdown",
      "metadata": {
        "id": "gyohUp7q6sxA"
      },
      "source": [
        "if you want to reduce the dimensions"
      ]
    },
    {
      "cell_type": "code",
      "metadata": {
        "id": "uO4R9uemTW-o"
      },
      "source": [
        "#import numpy as np\n",
        "\n",
        "#u, s, vh = np.linalg.svd(X[:20].toarray(), full_matrices=True)"
      ],
      "execution_count": 34,
      "outputs": []
    },
    {
      "cell_type": "code",
      "metadata": {
        "id": "F4FwS0RvUAmR"
      },
      "source": [
        "#t=pd.DataFrame(u)\n",
        "#t"
      ],
      "execution_count": null,
      "outputs": []
    },
    {
      "cell_type": "markdown",
      "metadata": {
        "id": "tiD891x5aD8D"
      },
      "source": [
        "#Training and Testing data"
      ]
    },
    {
      "cell_type": "markdown",
      "metadata": {
        "id": "W4upxRFuERVJ"
      },
      "source": [
        "Splitting data into training set and test set\n",
        "\n",
        "https://scikit-learn.org/stable/modules/generated/sklearn.model_selection.train_test_split.html"
      ]
    },
    {
      "cell_type": "markdown",
      "metadata": {
        "id": "k8mz57TnjZ_u"
      },
      "source": [
        "stratify --> balance the classes"
      ]
    },
    {
      "cell_type": "code",
      "metadata": {
        "id": "9Eo8H64zGwox"
      },
      "source": [
        "from sklearn.model_selection import train_test_split\n",
        "X_train, X_test, y_train, y_test = train_test_split(X, y, test_size = .3, shuffle = True, stratify = y,random_state = 3)"
      ],
      "execution_count": 35,
      "outputs": []
    },
    {
      "cell_type": "markdown",
      "metadata": {
        "id": "QN-Sod22Gn5U"
      },
      "source": [
        "#KNN\n",
        "\n",
        "https://scikit-learn.org/stable/modules/generated/sklearn.neighbors.KNeighborsClassifier.html\n"
      ]
    },
    {
      "cell_type": "markdown",
      "metadata": {
        "id": "aFZWl0AoEZP2"
      },
      "source": [
        "Creating the classifier/model/estimator using training set"
      ]
    },
    {
      "cell_type": "code",
      "metadata": {
        "colab": {
          "base_uri": "https://localhost:8080/"
        },
        "id": "2MUxsm-rG2x0",
        "outputId": "c1032a28-977d-4ad8-9bab-ee0e0c644292"
      },
      "source": [
        "from sklearn.neighbors import KNeighborsClassifier\n",
        "\n",
        "knn = KNeighborsClassifier()  #KNeighborsClassifier(5)\n",
        "\n",
        "knn.fit(X_train, y_train)  #training dataset"
      ],
      "execution_count": 36,
      "outputs": [
        {
          "output_type": "execute_result",
          "data": {
            "text/plain": [
              "KNeighborsClassifier(algorithm='auto', leaf_size=30, metric='minkowski',\n",
              "                     metric_params=None, n_jobs=None, n_neighbors=5, p=2,\n",
              "                     weights='uniform')"
            ]
          },
          "metadata": {},
          "execution_count": 36
        }
      ]
    },
    {
      "cell_type": "code",
      "metadata": {
        "id": "-Av8ecLZkYqq"
      },
      "source": [
        "#knn  --> classifier or model"
      ],
      "execution_count": 37,
      "outputs": []
    },
    {
      "cell_type": "markdown",
      "metadata": {
        "id": "NMs5JwtakrAp"
      },
      "source": [
        "fit -- > create the model\n",
        "\n",
        "\n",
        "predict--> test the model also unseen data"
      ]
    },
    {
      "cell_type": "markdown",
      "metadata": {
        "id": "CXeVFCI5DUY3"
      },
      "source": [
        "#Evaluating your model \n",
        "Using test set"
      ]
    },
    {
      "cell_type": "markdown",
      "metadata": {
        "id": "K7hRQUBEDepe"
      },
      "source": [
        "Accuracy Score"
      ]
    },
    {
      "cell_type": "markdown",
      "metadata": {
        "id": "NPP1X0Vzk_r4"
      },
      "source": [
        "score() --> check the accuracy"
      ]
    },
    {
      "cell_type": "code",
      "metadata": {
        "colab": {
          "base_uri": "https://localhost:8080/"
        },
        "id": "y8gVXFutuV7L",
        "outputId": "65242ccb-70d5-49dc-d204-67de7a98362c"
      },
      "source": [
        "knn.score(X_test,y_test)"
      ],
      "execution_count": 39,
      "outputs": [
        {
          "output_type": "execute_result",
          "data": {
            "text/plain": [
              "0.9341317365269461"
            ]
          },
          "metadata": {},
          "execution_count": 39
        }
      ]
    },
    {
      "cell_type": "code",
      "metadata": {
        "id": "a1LxnlVYFpUo"
      },
      "source": [
        "predicted = knn.predict(X_test)"
      ],
      "execution_count": 38,
      "outputs": []
    },
    {
      "cell_type": "code",
      "metadata": {
        "colab": {
          "base_uri": "https://localhost:8080/"
        },
        "id": "6ZOlzbxnFNko",
        "outputId": "33a97d50-d414-47d4-95d7-fd6093b38c8b"
      },
      "source": [
        "from sklearn.metrics import accuracy_score\n",
        "accuracy_score(y_test, predicted)"
      ],
      "execution_count": 40,
      "outputs": [
        {
          "output_type": "execute_result",
          "data": {
            "text/plain": [
              "0.9341317365269461"
            ]
          },
          "metadata": {},
          "execution_count": 40
        }
      ]
    },
    {
      "cell_type": "markdown",
      "metadata": {
        "id": "k-yfqij0Dgzn"
      },
      "source": [
        "#Confusion Matrix"
      ]
    },
    {
      "cell_type": "code",
      "metadata": {
        "colab": {
          "base_uri": "https://localhost:8080/"
        },
        "id": "dxvxu3gH2qAY",
        "outputId": "4bc93058-aa2b-45bb-ffdc-adf51dcb812d"
      },
      "source": [
        "from sklearn.metrics import confusion_matrix\n",
        "\n",
        "confusion = confusion_matrix(y_true=y_test, y_pred=predicted)\n",
        "confusion"
      ],
      "execution_count": 41,
      "outputs": [
        {
          "output_type": "execute_result",
          "data": {
            "text/plain": [
              "array([[117,   1,   0,   0,   2],\n",
              "       [  9, 136,   0,   1,   7],\n",
              "       [  0,   2, 151,   0,   1],\n",
              "       [  8,   2,   2, 100,   4],\n",
              "       [  1,   1,   2,   1, 120]])"
            ]
          },
          "metadata": {},
          "execution_count": 41
        }
      ]
    },
    {
      "cell_type": "markdown",
      "metadata": {
        "id": "hLx8id4ySmyk"
      },
      "source": [
        "https://seaborn.pydata.org/generated/seaborn.heatmap.html"
      ]
    },
    {
      "cell_type": "code",
      "metadata": {
        "colab": {
          "base_uri": "https://localhost:8080/",
          "height": 265
        },
        "id": "0GYBs7NOMkgD",
        "outputId": "94efe6d9-096e-48c3-f928-274a0956e082"
      },
      "source": [
        "import matplotlib.pyplot as plt\n",
        "import seaborn as sn\n",
        "sn.heatmap(confusion, annot=True,fmt=\"d\",cmap=plt.cm.Accent)\n",
        "plt.show()"
      ],
      "execution_count": 42,
      "outputs": [
        {
          "output_type": "display_data",
          "data": {
            "image/png": "[encoded data removed]",
            "text/plain": [
              "<Figure size 432x288 with 2 Axes>"
            ]
          },
          "metadata": {
            "needs_background": "light"
          }
        }
      ]
    },
    {
      "cell_type": "code",
      "metadata": {
        "colab": {
          "base_uri": "https://localhost:8080/",
          "height": 303
        },
        "id": "F00pugTZF-tO",
        "outputId": "77fe2fc7-caa0-4a5d-85c5-23430a2a7dc1"
      },
      "source": [
        "\n",
        "from sklearn.metrics import plot_confusion_matrix\n",
        "\n",
        "\n",
        "sn.set(font_scale=1.5) # for label size\n",
        "\n",
        "plot_confusion_matrix(knn, X_test, y_test,cmap=plt.cm.Blues,values_format='1')\n",
        "plt.show()"
      ],
      "execution_count": 43,
      "outputs": [
        {
          "output_type": "display_data",
          "data": {
            "image/png": "[encoded data removed]",
            "text/plain": [
              "<Figure size 432x288 with 2 Axes>"
            ]
          },
          "metadata": {}
        }
      ]
    },
    {
      "cell_type": "markdown",
      "metadata": {
        "id": "SVp97ig7UdLi"
      },
      "source": [
        "Classification report"
      ]
    },
    {
      "cell_type": "code",
      "metadata": {
        "id": "hBE-D8WtUcmO"
      },
      "source": [
        "from sklearn.metrics import classification_report\n",
        "from pprint import pprint"
      ],
      "execution_count": 44,
      "outputs": []
    },
    {
      "cell_type": "code",
      "metadata": {
        "colab": {
          "base_uri": "https://localhost:8080/"
        },
        "id": "k-0ZcbMnUgyY",
        "outputId": "8c5e592c-118f-4f76-9610-3aafbadc6815"
      },
      "source": [
        "pprint(classification_report(y_test, predicted))"
      ],
      "execution_count": 45,
      "outputs": [
        {
          "output_type": "stream",
          "name": "stdout",
          "text": [
            "('              precision    recall  f1-score   support\\n'\n",
            " '\\n'\n",
            " '           0       0.87      0.97      0.92       120\\n'\n",
            " '           1       0.96      0.89      0.92       153\\n'\n",
            " '           2       0.97      0.98      0.98       154\\n'\n",
            " '           3       0.98      0.86      0.92       116\\n'\n",
            " '           4       0.90      0.96      0.93       125\\n'\n",
            " '\\n'\n",
            " '    accuracy                           0.93       668\\n'\n",
            " '   macro avg       0.93      0.93      0.93       668\\n'\n",
            " 'weighted avg       0.94      0.93      0.93       668\\n')\n"
          ]
        }
      ]
    },
    {
      "cell_type": "markdown",
      "metadata": {
        "id": "5cabM6JFEEL4"
      },
      "source": [
        "#Testing with new data instance"
      ]
    },
    {
      "cell_type": "code",
      "metadata": {
        "id": "KMDe8DE10-dr"
      },
      "source": [
        "new_news = 'Kotak Institutional Equities expects modest returns from the Indian stock market in the base-case scenario of a strong economic recovery and a gradual increase in global and domestic bond yields, but stock-specific action will continue, especially in midcaps.'\n",
        "#preprocess, vectorize\n",
        "vec = tfidf_vectorizer.transform([new_news])\n",
        "y_predict = knn.predict(vec)"
      ],
      "execution_count": 46,
      "outputs": []
    },
    {
      "cell_type": "code",
      "metadata": {
        "id": "gwtLFVE9vvwr",
        "colab": {
          "base_uri": "https://localhost:8080/",
          "height": 35
        },
        "outputId": "c5b0ff31-fdbe-4d61-cb0c-a6bba852c95c"
      },
      "source": [
        "classes = {0:'tech',1:'business',2:'sport',3:'entertainment',4:'politics'}\n",
        "classes[y_predict[0]]"
      ],
      "execution_count": 47,
      "outputs": [
        {
          "output_type": "execute_result",
          "data": {
            "application/vnd.google.colaboratory.intrinsic+json": {
              "type": "string"
            },
            "text/plain": [
              "'business'"
            ]
          },
          "metadata": {},
          "execution_count": 47
        }
      ]
    }
  ]
}